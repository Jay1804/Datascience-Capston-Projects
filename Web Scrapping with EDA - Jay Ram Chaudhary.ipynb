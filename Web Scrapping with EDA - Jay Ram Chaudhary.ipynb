{
 "cells": [
  {
   "cell_type": "markdown",
   "metadata": {},
   "source": [
    "# Capstone Project"
   ]
  },
  {
   "cell_type": "markdown",
   "metadata": {},
   "source": [
    "# Web Scrapping Project"
   ]
  },
  {
   "cell_type": "markdown",
   "metadata": {},
   "source": [
    "Web scraping is a process of automating the extraction of data in an efficient and fast way. With the help of web scraping, you can extract data from any website, no matter how large is the data, on your computer. Moreover, websites may have data that you cannot copy and paste."
   ]
  },
  {
   "cell_type": "markdown",
   "metadata": {},
   "source": [
    "There are different techniques for Data Scrapping like Scrappy,BeautifulSoup etc. The most common technique is using BeautifulSoup.It extracts the html page in any website. The data stored by web Scrapping is unstrutured format. We convert the unstrutured into structured data for Data analysis and exploration."
   ]
  },
  {
   "cell_type": "markdown",
   "metadata": {},
   "source": [
    "Used Packages and Library:\n",
    "\n",
    "- Used BeautifulSoup nad Requests package in Python environment to scrape the Data from Flipkart website.\n",
    "- Pandas used for Data Pre-Processing and Data subsetting and cleaning\n",
    "- Used matplotlib and seaborn for data visualization\n",
    "- Multi-Paging Data Scrapping concept\n"
   ]
  },
  {
   "cell_type": "markdown",
   "metadata": {},
   "source": [
    "Objective:\n",
    "- Product extensively used : Iphone\n",
    "- To compare Product(IPhone) against Price and Reviews and Ratings with the budget constraint of 35000 - 45000\n",
    "- Select best Product with the budget available\n",
    "    "
   ]
  },
  {
   "cell_type": "markdown",
   "metadata": {},
   "source": [
    "# Data Scraping and Analysis using Python"
   ]
  },
  {
   "cell_type": "code",
   "execution_count": 1,
   "metadata": {},
   "outputs": [],
   "source": [
    "import bs4\n",
    "import requests\n",
    "from fake_useragent import UserAgent\n",
    "import pandas as pd\n",
    "import numpy as np\n",
    "import seaborn as sns\n",
    "import matplotlib.pyplot as plt"
   ]
  },
  {
   "cell_type": "code",
   "execution_count": 2,
   "metadata": {},
   "outputs": [
    {
     "name": "stdout",
     "output_type": "stream",
     "text": [
      "Product Name- iphone\n"
     ]
    }
   ],
   "source": [
    "prod_t=[]\n",
    "rating_t=[]\n",
    "price_t=[]\n",
    "final_array=[]\n",
    "\n",
    "df=pd.DataFrame()\n",
    "user_agent = UserAgent()\n",
    "product_name = input(\"Product Name- \")\n",
    "for i in range(1,5):\n",
    "\n",
    "    url = \"https://www.flipkart.com/search?q={0}&page={1}\"\n",
    "\n",
    "   # url='https://www.flipkart.com/search?q=iphone&otracker=search&otracker1=search&marketplace=FLIPKART&as-show=on&as=off&page={1}'\n",
    "    url = url.format(product_name,i)\n",
    "    \n",
    "    page = requests.get(url, headers={\"user-agent\": user_agent.chrome})\n",
    "    html = page.content\n",
    "    \n",
    "    soup = bs4.BeautifulSoup(html, \"html.parser\")\n",
    "    products=soup.find_all(\"a\",{\"class\":\"_2cLu-l\"})\n",
    "    for item in products:\n",
    "        prod_t.append(item.text)\n",
    "        \n",
    "        \n",
    "    rating=soup.find_all(\"div\",{\"class\":\"hGSR34\"})\n",
    "    for item in rating:\n",
    "        rating_t.append(item.text)   \n",
    "        \n",
    "        \n",
    "    price=soup.find_all(\"div\",{\"class\":\"_1vC4OE\"})\n",
    "    for item in price:\n",
    "       # price_t.append(item.text.replace('₹','') )  \n",
    "        price_t.append(item.text) \n",
    "     \n",
    "        "
   ]
  },
  {
   "cell_type": "markdown",
   "metadata": {},
   "source": [
    "# Scrapping Product, Rating and Price from flipkart.com"
   ]
  },
  {
   "cell_type": "code",
   "execution_count": 3,
   "metadata": {},
   "outputs": [
    {
     "name": "stdout",
     "output_type": "stream",
     "text": [
      "160\n",
      "['Apple iPhone 11 (Black, 64 GB)', 'Apple iPhone SE (Black, 64 GB)', 'Apple iPhone 11 (White, 64 GB)', 'Apple iPhone 7 (Black, 32 GB)', 'Apple iPhone XR (White, 64 GB)', 'Apple iPhone XR (Black, 64 GB)', 'Apple iPhone SE (White, 64 GB)', 'Apple iPhone SE (Red, 64 GB)', 'Apple iPhone 11 (Black, 128 GB)', 'Apple iPhone 11 (Green, 64 GB)', 'Apple iPhone SE (Black, 128 GB)', 'Apple iPhone 11 (White, 128 GB)', 'Flipkart SmartBuy Tempered Glass Guard for Apple iPhone...', 'RhinoShield Screen Guard for Apple iPhone 11 Pro', 'Apple iPhone 11 (Green, 128 GB)', 'Apple iPhone 11 (Purple, 128 GB)', 'Apple iPhone SE (White, 128 GB)', 'Apple iPhone XR (Coral, 64 GB)', 'Apple iPhone SE (Red, 128 GB)', 'Raptas Case Accessory Combo for All Smartphone and IOS', 'Apple iPhone 7 Plus (Black, 32 GB)', 'Apple iPhone 11 (Red, 128 GB)', 'Apple iPhone 11 (Purple, 64 GB)', 'RhinoShield Screen Guard for Apple iPhone 11 Pro Max', 'Apple iPhone XR (Blue, 128 GB)', 'Apple iPhone XR (Black, 128 GB)', 'Apple iPhone 11 (Red, 64 GB)', 'Apple iPhone 7 Plus (Gold, 32 GB)', 'FIRST IMPRESSION Front and Back Tempered Glass for Appl...', 'Raptas Docking Station Accessory Combo for Mobile', 'Apple iPhone XS (Space Grey, 64 GB)', 'Apple iPhone 6s (Space Grey, 32 GB)', 'Apple iPhone 7 Plus (Rose Gold, 32 GB)', 'Supreno Docking Station Accessory Combo for All Smartph...', 'Apple iPhone 11 Pro (Gold, 64 GB)', 'Apple iPhone 11 Pro Max (Space Grey, 64 GB)', 'Apple iPhone 11 Pro (Midnight Green, 256 GB)', 'Apple iPhone 11 Pro (Space Grey, 256 GB)', 'Apple iPhone 11 Pro Max (Gold, 64 GB)', 'Supreno Docking Station Accessory Combo for All Smartph...', 'Apple iPhone 8 (PRODUCT)RED (Red, 256 GB)', 'Apple iPhone 11 Pro Max (Silver, 64 GB)', 'Apple iPhone 8 Plus (PRODUCT)RED (Red, 64 GB)', 'RhinoShield Screen Guard for Apple iPhone 11 Pro', 'Apple iPhone 11 Pro (Silver, 512 GB)', 'Apple iPhone 11 Pro Max (Midnight Green, 64 GB)', 'Apple iPhone 11 Pro (Space Grey, 64 GB)', 'Apple iPhone 8 Plus (Space Grey, 64 GB)', 'Apple iPhone 11 Pro (Gold, 256 GB)', 'Raptas Case Accessory Combo for All Smartphone and IOS', 'Apple iPhone XS (Space Grey, 512 GB)', 'Apple iPhone 8 Plus (Silver, 256 GB)', 'RhinoShield Tempered Glass Guard for Apple iPhone 7, Ap...', 'RhinoShield Screen Guard for Apple iPhone 11 Pro Max', 'Apple iPhone 8 Plus (Gold, 256 GB)', 'Apple iPhone 8 Plus (Gold, 64 GB)', 'Apple iPhone 8 (Gold, 256 GB)', 'Apple iPhone 8 (Silver, 256 GB)', 'Apple iPhone 7 (Rose Gold, 256 GB)', 'Ravbelli Edge To Edge Tempered Glass for Apple iPhone 6...', 'Apple iPhone 6s Plus (Space Grey, 16 GB)', 'Apple iPhone 7 Plus (Gold, 128 GB)', 'Apple iPhone XS (Silver, 512 GB)', 'Ravbelli Edge To Edge Tempered Glass for Apple Iphone 6...', 'Apple iPhone X (Silver, 256 GB)', 'Dainty Tempered Glass Guard for Apple iPhone SE 2020, A...', 'Dainty Tempered Glass Guard for Apple iPhone SE 2020, A...', 'Tiger MAX Tempered Glass Guard for Apple iPhone 7', 'PR SMART Front and Back Tempered Glass for Apple iPhone...', 'Raptas Earphone Cable Organizer Accessory Combo for Mob...', 'FIRST IMPRESSION Front and Back Tempered Glass for Appl...', 'RUNEECH Back Tempered Glass for Apple iPhone 6 Plus', 'Dainty Tempered Glass Guard for Apple iPhone 7 Plus', 'Raptas Docking Station Accessory Combo for Mobile', 'Tiger MAX Screen Guard for Apple Iphone 8', 'BlackBug Back Screen Guard for Apple iPhone 5s', 'Bodoma Back Screen Guard for Apple Iphone 11', 'FIRST IMPRESSION Front and Back Tempered Glass for Appl...', 'Payswell Tempered Glass Guard for Apple iPhone XR', 'Supreno Docking Station Accessory Combo for All Smartph...', 'Dainty Tempered Glass Guard for Apple iPhone 6s Plus', 'Power Tempered Glass Guard for Apple iPhone SE', 'ACUTAS Back Screen Guard for Protector Film Carbon Fibe...', 'RhinoShield Screen Guard for Apple iPhone 11 Pro', 'ROAR Multicolor JOY_642J Lightning Adapter Iphone Split...', 'Karpine Edge To Edge Tempered Glass for Apple iPhone 11...', 'ACUTAS Screen Guard for Back camera Lens Apple iPhone 7...', 'SHIELD Tempered Glass Guard for Apple iPhone 5s', 'Power Tempered Glass Guard for Apple iPhone SE', 'Raptas Case Accessory Combo for All Smartphone and IOS', 'Power Tempered Glass Guard for Apple iPhone 5s', 'Tiger MAX Tempered Glass Guard for Apple iPhone 7 Plus', 'Kapaver Tempered Glass Guard for Apple iPhone 6 Plus, A...', 'RhinoShield Screen Guard for Apple iPhone 11 Pro Max', 'Dainty Tempered Glass Guard for Apple iPhone SE 2020, A...', 'PR SMART Front and Back Tempered Glass for Apple iPhone...', 'Trajectory Universal Travel Adapter and Iphone USB Cabl...', 'Power Tempered Glass Guard for Apple iPhone 6s', 'FIRST IMPRESSION Tempered Glass Guard for Apple iPhone ...', 'Ravbelli Edge To Edge Tempered Glass for Apple iPhone 6...', 'Jabox Edge To Edge Tempered Glass for Apple iPhone 6', 'RiverForest Tempered Glass Guard for apple iphone 11 pr...', 'BlackBug Back Screen Guard for Apple iPhone SE', 'Ravbelli Edge To Edge Tempered Glass for Apple Iphone 6...', 'Power Tempered Glass Guard for Apple iPhone SE', 'Marshland Tempered Glass Guard for Tempered Glass Guard...', 'ELEF Tempered Glass Guard for Anti Blueray Eyes Protect...', 'Micgeek Tempered Glass Guard for Apple iPhone 8, Apple ...', 'FIRST IMPRESSION Tempered Glass Guard for Apple iPhone ...', 'Raptas Earphone Cable Organizer Accessory Combo for Mob...', 'Power Tempered Glass Guard for Apple iPhone 5s', 'BlackBug Back Screen Guard for Apple iPhone XS', 'RiverForest Edge To Edge Tempered Glass for iphone 11 P...', 'Raptas Docking Station Accessory Combo for Mobile', 'Bodoma Edge To Edge Tempered Glass for Apple Iphone 11/...', 'Heartly Tempered Glass Guard for Apple iPhone 5C', 'Tough Lee Tempered Glass Guard for Apple iPhone 7 Plus', 'Snooky Screen Guard for Apple Iphone 5c', 'BlackBug Back Screen Guard for Apple iPhone 8 Plus', 'Supreno Docking Station Accessory Combo for All Smartph...', 'Snooky Camera Lens Protector for Apple Iphone 5', 'Heartly Tempered Glass Guard for Apple iPhone 5 5S 5G', 'Power Tempered Glass Guard for Apple iPhone 5s', 'RhinoShield Screen Guard for Apple iPhone 11 Pro', 'Power Tempered Glass Guard for Apple iPhone 6s Plus', 'Tiger MAX Tempered Glass Guard for Apple iPhone 7 Plus', 'SHIELD Tempered Glass Guard for Apple iPhone 6s', 'FIRST IMPRESSION Tempered Glass Guard for Apple iPhone ...', 'SHIELD Tempered Glass Guard for Apple iPhone X', 'Raptas Case Accessory Combo for All Smartphone and IOS', 'Heartly iPhone & Android Phone 2 In 1 OTG Mini USB Cool...', 'Bodoma Tempered Glass Guard for Apple iPhone X', 'FIRST IMPRESSION Front and Back Tempered Glass for Appl...', 'RhinoShield Screen Guard for Apple iPhone 11 Pro Max', 'BlackBug Back Screen Guard for Apple iPhone 5', 'SHIELD Tempered Glass Guard for Apple iPhone 6s', 'Power Tempered Glass Guard for Apple iPhone 7', 'Power Tempered Glass Guard for Apple iPhone SE', 'Power Tempered Glass Guard for Apple iPhone SE', 'Ravbelli Edge To Edge Tempered Glass for Apple iPhone 6...', 'Snooky Camera Lens Protector for Apple iPhone 6 Plus', 'Power Tempered Glass Guard for Apple iPhone 5', 'Snooky Camera Lens Protector for Apple iPhone 6', 'Ravbelli Edge To Edge Tempered Glass for Apple Iphone 6...', 'Richuzers Edge To Edge Tempered Glass for Apple iPhone ...', 'SHIELD Tempered Glass Guard for Apple iPhone 7', 'SHIELD Tempered Glass Guard for Apple iPhone SE', 'Power Tempered Glass Guard for Apple iPhone 8 Plus', 'PR SMART Front and Back Tempered Glass for Apple iPhone...', 'Raptas Earphone Cable Organizer Accessory Combo for Mob...', 'Tiger MAX Edge To Edge Tempered Glass for Apple iPhone ...', 'Power Tempered Glass Guard for Apple iPhone 8', 'Power Tempered Glass Guard for Apple iPhone X', 'Raptas Docking Station Accessory Combo for Mobile', 'RiverForest Edge To Edge Tempered Glass for iphone 11 P...', 'Payswell Tempered Glass Guard for Apple iPhone 7', 'BlackBug Back Screen Guard for Apple iPhone XS Max', 'SHIELD Tempered Glass Guard for Apple iPhone SE', 'Power Tempered Glass Guard for Apple iPhone 5s', 'Supreno Docking Station Accessory Combo for All Smartph...']\n"
     ]
    }
   ],
   "source": [
    "print(len(prod_t))\n",
    "print(prod_t)\n"
   ]
  },
  {
   "cell_type": "code",
   "execution_count": 4,
   "metadata": {},
   "outputs": [
    {
     "name": "stdout",
     "output_type": "stream",
     "text": [
      "147\n",
      "['4.7', '4.5', '4.7', '4.5', '4.6', '4.6', '4.5', '4.5', '4.7', '4.7', '4.5', '4.7', '3.4', '4.7', '4.7', '4.5', '4.6', '4.5', '4.5', '4.7', '4.7', '4.6', '4.6', '4.7', '4.5', '4.1', '4.7', '4.5', '4.5', '4.7', '4.7', '4.7', '4.7', '4.7', '4.7', '5', '5', '4.1', '5', '5', '4.5', '4', '1', '4.5', '5', '5', '4.5', '5', '1', '4.7', '4.7', '4.6', '4.7', '4.7', '4.7', '4.6', '4.7', '4.7', '4.6', '4.6', '4.6', '4.5', '4.5', '4.5', '4.4', '4.5', '4.7', '4.6', '3.9', '3.8', '3.9', '3.7', '4', '3.8', '4.2', '4.2', '3.9', '3.5', '4.6', '5', '5', '3.9', '5', '5', '4.4', '5', '5', '4.5', '5', '5', '4.5', '5', '1', '3.7', '3.6', '3.6', '3.5', '3.5', '3', '3.8', '4.1', '3.7', '4.1', '4.4', '3.1', '4.2', '4', '3.8', '3.7', '1', '3', '4.1', '5', '5', '3.7', '1', '1', '3.1', '1', '1', '3.8', '1', '1', '3.9', '3.6', '3.3', '3.8', '3', '4.3', '3.5', '3.5', '4', '3.9', '5', '5', '3.6', '2', '2', '3.5', '5', '5', '4.5', '5', '1', '3.5', '2', '2']\n"
     ]
    }
   ],
   "source": [
    "print(len(rating_t))\n",
    "print(rating_t)"
   ]
  },
  {
   "cell_type": "code",
   "execution_count": 5,
   "metadata": {
    "scrolled": true
   },
   "outputs": [
    {
     "name": "stdout",
     "output_type": "stream",
     "text": [
      "180\n",
      "['₹68,300', '₹42,500', '₹68,300', '₹29,499', '₹52,500', '₹52,500', '₹42,500', '₹42,500', '₹73,600', '₹68,300', '₹47,800', '₹73,600', '₹179', '₹1,299', '₹73,600', '₹73,600', '₹47,800', '₹52,500', '₹47,800', '₹1,559', '₹36,999', '₹73,600', '₹68,300', '₹1,299', '₹57,800', '₹57,800', '₹68,300', '₹36,999', '₹199', '₹1,129', '₹62,999', '₹29,900', '₹36,999', '₹599', '₹1,06,600', '₹1,17,100', '₹1,21,300', '₹1,21,300', '₹1,17,100', '₹699', '₹62,999', '₹199', '₹29,900', '₹29,499', '₹36,999', '₹56,999', '₹1,17,100', '₹52,990', '₹1,299', '₹1,40,300', '₹1,17,100', '₹1,06,600', '₹52,990', '₹1,21,300', '₹1,559', '₹1,34,900', '₹67,990', '₹1,299', '₹1,299', '₹67,990', '₹76,000', '₹57,990', '₹57,990', '₹47,490', '₹199', '₹42,990', '₹46,344', '₹1,24,490', '₹199', '₹84,990', '₹199', '₹199', '₹199', '₹197', '₹479', '₹199', '₹149', '₹199', '₹1,129', '₹299', '₹107', '₹179', '₹199', '₹199', '₹599', '₹52,990', '₹199', '₹42,990', '₹47,490', '₹42,500', '₹199', '₹189', '₹119', '₹1,299', '₹349', '₹259', '₹99', '₹189', '₹189', '₹1,559', '₹189', '₹199', '₹199', '₹1,299', '₹199', '₹259', '₹499', '₹179', '₹199', '₹199', '₹259', '₹238', '₹119', '₹199', '₹189', '₹439', '₹259', '₹425', '₹198', '₹479', '₹189', '₹119', '₹238', '₹1,129', '₹238', '₹299', '₹199', '₹201', '₹119', '₹599', '₹199', '₹499', '₹179', '₹425', '₹199', '₹201', '₹299', '₹189', '₹1,299', '₹179', '₹299', '₹179', '₹199', '₹199', '₹1,559', '₹399', '₹199', '₹199', '₹1,299', '₹119', '₹179', '₹179', '₹189', '₹189', '₹199', '₹201', '₹189', '₹201', '₹199', '₹289', '₹179', '₹189', '₹179', '₹259', '₹479', '₹299', '₹179', '₹249', '₹1,129', '₹237', '₹199', '₹119', '₹189', '₹179', '₹599', '₹299', '₹179', '₹299', '₹42,500', '₹289']\n"
     ]
    }
   ],
   "source": [
    "print(len(price_t))\n",
    "print(price_t)"
   ]
  },
  {
   "cell_type": "markdown",
   "metadata": {},
   "source": [
    "# Zipping the List together in DataFrame"
   ]
  },
  {
   "cell_type": "code",
   "execution_count": 6,
   "metadata": {},
   "outputs": [],
   "source": [
    "for product,rating,price in zip(prod_t,rating_t,price_t):\n",
    "    final_array.append({'Products':product,'Rating':rating,'Price':price})\n",
    "    \n",
    "df=pd.DataFrame(final_array)"
   ]
  },
  {
   "cell_type": "code",
   "execution_count": 7,
   "metadata": {
    "scrolled": false
   },
   "outputs": [
    {
     "data": {
      "text/html": [
       "<div>\n",
       "<style scoped>\n",
       "    .dataframe tbody tr th:only-of-type {\n",
       "        vertical-align: middle;\n",
       "    }\n",
       "\n",
       "    .dataframe tbody tr th {\n",
       "        vertical-align: top;\n",
       "    }\n",
       "\n",
       "    .dataframe thead th {\n",
       "        text-align: right;\n",
       "    }\n",
       "</style>\n",
       "<table border=\"1\" class=\"dataframe\">\n",
       "  <thead>\n",
       "    <tr style=\"text-align: right;\">\n",
       "      <th></th>\n",
       "      <th>Products</th>\n",
       "      <th>Rating</th>\n",
       "      <th>Price</th>\n",
       "    </tr>\n",
       "  </thead>\n",
       "  <tbody>\n",
       "    <tr>\n",
       "      <td>0</td>\n",
       "      <td>Apple iPhone 11 (Black, 64 GB)</td>\n",
       "      <td>4.7</td>\n",
       "      <td>₹68,300</td>\n",
       "    </tr>\n",
       "    <tr>\n",
       "      <td>1</td>\n",
       "      <td>Apple iPhone SE (Black, 64 GB)</td>\n",
       "      <td>4.5</td>\n",
       "      <td>₹42,500</td>\n",
       "    </tr>\n",
       "    <tr>\n",
       "      <td>2</td>\n",
       "      <td>Apple iPhone 11 (White, 64 GB)</td>\n",
       "      <td>4.7</td>\n",
       "      <td>₹68,300</td>\n",
       "    </tr>\n",
       "    <tr>\n",
       "      <td>3</td>\n",
       "      <td>Apple iPhone 7 (Black, 32 GB)</td>\n",
       "      <td>4.5</td>\n",
       "      <td>₹29,499</td>\n",
       "    </tr>\n",
       "    <tr>\n",
       "      <td>4</td>\n",
       "      <td>Apple iPhone XR (White, 64 GB)</td>\n",
       "      <td>4.6</td>\n",
       "      <td>₹52,500</td>\n",
       "    </tr>\n",
       "  </tbody>\n",
       "</table>\n",
       "</div>"
      ],
      "text/plain": [
       "                         Products Rating    Price\n",
       "0  Apple iPhone 11 (Black, 64 GB)    4.7  ₹68,300\n",
       "1  Apple iPhone SE (Black, 64 GB)    4.5  ₹42,500\n",
       "2  Apple iPhone 11 (White, 64 GB)    4.7  ₹68,300\n",
       "3   Apple iPhone 7 (Black, 32 GB)    4.5  ₹29,499\n",
       "4  Apple iPhone XR (White, 64 GB)    4.6  ₹52,500"
      ]
     },
     "execution_count": 7,
     "metadata": {},
     "output_type": "execute_result"
    }
   ],
   "source": [
    "df.head()"
   ]
  },
  {
   "cell_type": "markdown",
   "metadata": {},
   "source": [
    "# Removing \"₹\" and  \",\" from Price Column in order to change it into numeric Data type from string data type"
   ]
  },
  {
   "cell_type": "code",
   "execution_count": 8,
   "metadata": {
    "scrolled": true
   },
   "outputs": [
    {
     "data": {
      "text/html": [
       "<div>\n",
       "<style scoped>\n",
       "    .dataframe tbody tr th:only-of-type {\n",
       "        vertical-align: middle;\n",
       "    }\n",
       "\n",
       "    .dataframe tbody tr th {\n",
       "        vertical-align: top;\n",
       "    }\n",
       "\n",
       "    .dataframe thead th {\n",
       "        text-align: right;\n",
       "    }\n",
       "</style>\n",
       "<table border=\"1\" class=\"dataframe\">\n",
       "  <thead>\n",
       "    <tr style=\"text-align: right;\">\n",
       "      <th></th>\n",
       "      <th>Products</th>\n",
       "      <th>Rating</th>\n",
       "      <th>Price</th>\n",
       "    </tr>\n",
       "  </thead>\n",
       "  <tbody>\n",
       "    <tr>\n",
       "      <td>0</td>\n",
       "      <td>Apple iPhone 11 (Black, 64 GB)</td>\n",
       "      <td>4.7</td>\n",
       "      <td>68300</td>\n",
       "    </tr>\n",
       "    <tr>\n",
       "      <td>1</td>\n",
       "      <td>Apple iPhone SE (Black, 64 GB)</td>\n",
       "      <td>4.5</td>\n",
       "      <td>42500</td>\n",
       "    </tr>\n",
       "    <tr>\n",
       "      <td>2</td>\n",
       "      <td>Apple iPhone 11 (White, 64 GB)</td>\n",
       "      <td>4.7</td>\n",
       "      <td>68300</td>\n",
       "    </tr>\n",
       "    <tr>\n",
       "      <td>3</td>\n",
       "      <td>Apple iPhone 7 (Black, 32 GB)</td>\n",
       "      <td>4.5</td>\n",
       "      <td>29499</td>\n",
       "    </tr>\n",
       "    <tr>\n",
       "      <td>4</td>\n",
       "      <td>Apple iPhone XR (White, 64 GB)</td>\n",
       "      <td>4.6</td>\n",
       "      <td>52500</td>\n",
       "    </tr>\n",
       "  </tbody>\n",
       "</table>\n",
       "</div>"
      ],
      "text/plain": [
       "                         Products Rating  Price\n",
       "0  Apple iPhone 11 (Black, 64 GB)    4.7  68300\n",
       "1  Apple iPhone SE (Black, 64 GB)    4.5  42500\n",
       "2  Apple iPhone 11 (White, 64 GB)    4.7  68300\n",
       "3   Apple iPhone 7 (Black, 32 GB)    4.5  29499\n",
       "4  Apple iPhone XR (White, 64 GB)    4.6  52500"
      ]
     },
     "execution_count": 8,
     "metadata": {},
     "output_type": "execute_result"
    }
   ],
   "source": [
    "df['Price'] = df['Price'].str.lstrip('₹')\n",
    "df['Price'] = df['Price'].replace({',':''}, regex=True)\n",
    "\n",
    "df.head()"
   ]
  },
  {
   "cell_type": "markdown",
   "metadata": {},
   "source": [
    "# Rating and Price converted into float datatype in order to perform mathematical operations on the feature"
   ]
  },
  {
   "cell_type": "code",
   "execution_count": 10,
   "metadata": {},
   "outputs": [],
   "source": [
    "df['Rating'] = df['Rating'].astype(np.float)\n",
    "\n",
    "df['Price'] = pd.to_numeric(df['Price'],errors='coerce')"
   ]
  },
  {
   "cell_type": "code",
   "execution_count": 12,
   "metadata": {},
   "outputs": [
    {
     "name": "stdout",
     "output_type": "stream",
     "text": [
      "<class 'pandas.core.frame.DataFrame'>\n",
      "RangeIndex: 147 entries, 0 to 146\n",
      "Data columns (total 3 columns):\n",
      "Products    147 non-null object\n",
      "Rating      147 non-null float64\n",
      "Price       147 non-null int64\n",
      "dtypes: float64(1), int64(1), object(1)\n",
      "memory usage: 2.9+ KB\n"
     ]
    }
   ],
   "source": [
    "df.info()"
   ]
  },
  {
   "cell_type": "code",
   "execution_count": 14,
   "metadata": {
    "scrolled": true
   },
   "outputs": [
    {
     "data": {
      "text/html": [
       "<div>\n",
       "<style scoped>\n",
       "    .dataframe tbody tr th:only-of-type {\n",
       "        vertical-align: middle;\n",
       "    }\n",
       "\n",
       "    .dataframe tbody tr th {\n",
       "        vertical-align: top;\n",
       "    }\n",
       "\n",
       "    .dataframe thead th {\n",
       "        text-align: right;\n",
       "    }\n",
       "</style>\n",
       "<table border=\"1\" class=\"dataframe\">\n",
       "  <thead>\n",
       "    <tr style=\"text-align: right;\">\n",
       "      <th></th>\n",
       "      <th>Products</th>\n",
       "      <th>Rating</th>\n",
       "      <th>Price</th>\n",
       "    </tr>\n",
       "  </thead>\n",
       "  <tbody>\n",
       "    <tr>\n",
       "      <td>0</td>\n",
       "      <td>Apple iPhone 11 (Black, 64 GB)</td>\n",
       "      <td>4.7</td>\n",
       "      <td>68300</td>\n",
       "    </tr>\n",
       "    <tr>\n",
       "      <td>1</td>\n",
       "      <td>Apple iPhone SE (Black, 64 GB)</td>\n",
       "      <td>4.5</td>\n",
       "      <td>42500</td>\n",
       "    </tr>\n",
       "    <tr>\n",
       "      <td>2</td>\n",
       "      <td>Apple iPhone 11 (White, 64 GB)</td>\n",
       "      <td>4.7</td>\n",
       "      <td>68300</td>\n",
       "    </tr>\n",
       "    <tr>\n",
       "      <td>3</td>\n",
       "      <td>Apple iPhone 7 (Black, 32 GB)</td>\n",
       "      <td>4.5</td>\n",
       "      <td>29499</td>\n",
       "    </tr>\n",
       "    <tr>\n",
       "      <td>4</td>\n",
       "      <td>Apple iPhone XR (White, 64 GB)</td>\n",
       "      <td>4.6</td>\n",
       "      <td>52500</td>\n",
       "    </tr>\n",
       "  </tbody>\n",
       "</table>\n",
       "</div>"
      ],
      "text/plain": [
       "                         Products  Rating  Price\n",
       "0  Apple iPhone 11 (Black, 64 GB)     4.7  68300\n",
       "1  Apple iPhone SE (Black, 64 GB)     4.5  42500\n",
       "2  Apple iPhone 11 (White, 64 GB)     4.7  68300\n",
       "3   Apple iPhone 7 (Black, 32 GB)     4.5  29499\n",
       "4  Apple iPhone XR (White, 64 GB)     4.6  52500"
      ]
     },
     "execution_count": 14,
     "metadata": {},
     "output_type": "execute_result"
    }
   ],
   "source": [
    "df.head()"
   ]
  },
  {
   "cell_type": "markdown",
   "metadata": {},
   "source": [
    "# Saving the Dataframe into csv file"
   ]
  },
  {
   "cell_type": "code",
   "execution_count": 15,
   "metadata": {},
   "outputs": [],
   "source": [
    "df.to_csv('iphone.csv')"
   ]
  },
  {
   "cell_type": "code",
   "execution_count": 17,
   "metadata": {},
   "outputs": [
    {
     "data": {
      "text/html": [
       "<div>\n",
       "<style scoped>\n",
       "    .dataframe tbody tr th:only-of-type {\n",
       "        vertical-align: middle;\n",
       "    }\n",
       "\n",
       "    .dataframe tbody tr th {\n",
       "        vertical-align: top;\n",
       "    }\n",
       "\n",
       "    .dataframe thead th {\n",
       "        text-align: right;\n",
       "    }\n",
       "</style>\n",
       "<table border=\"1\" class=\"dataframe\">\n",
       "  <thead>\n",
       "    <tr style=\"text-align: right;\">\n",
       "      <th></th>\n",
       "      <th>Products</th>\n",
       "      <th>Rating</th>\n",
       "      <th>Price</th>\n",
       "    </tr>\n",
       "  </thead>\n",
       "  <tbody>\n",
       "    <tr>\n",
       "      <td>142</td>\n",
       "      <td>Snooky Camera Lens Protector for Apple iPhone 6</td>\n",
       "      <td>5.0</td>\n",
       "      <td>199</td>\n",
       "    </tr>\n",
       "    <tr>\n",
       "      <td>143</td>\n",
       "      <td>Ravbelli Edge To Edge Tempered Glass for Apple...</td>\n",
       "      <td>1.0</td>\n",
       "      <td>199</td>\n",
       "    </tr>\n",
       "    <tr>\n",
       "      <td>144</td>\n",
       "      <td>Richuzers Edge To Edge Tempered Glass for Appl...</td>\n",
       "      <td>3.5</td>\n",
       "      <td>1559</td>\n",
       "    </tr>\n",
       "    <tr>\n",
       "      <td>145</td>\n",
       "      <td>SHIELD Tempered Glass Guard for Apple iPhone 7</td>\n",
       "      <td>2.0</td>\n",
       "      <td>399</td>\n",
       "    </tr>\n",
       "    <tr>\n",
       "      <td>146</td>\n",
       "      <td>SHIELD Tempered Glass Guard for Apple iPhone SE</td>\n",
       "      <td>2.0</td>\n",
       "      <td>199</td>\n",
       "    </tr>\n",
       "  </tbody>\n",
       "</table>\n",
       "</div>"
      ],
      "text/plain": [
       "                                              Products  Rating  Price\n",
       "142    Snooky Camera Lens Protector for Apple iPhone 6     5.0    199\n",
       "143  Ravbelli Edge To Edge Tempered Glass for Apple...     1.0    199\n",
       "144  Richuzers Edge To Edge Tempered Glass for Appl...     3.5   1559\n",
       "145     SHIELD Tempered Glass Guard for Apple iPhone 7     2.0    399\n",
       "146    SHIELD Tempered Glass Guard for Apple iPhone SE     2.0    199"
      ]
     },
     "execution_count": 17,
     "metadata": {},
     "output_type": "execute_result"
    }
   ],
   "source": [
    "df.tail()"
   ]
  },
  {
   "cell_type": "code",
   "execution_count": 18,
   "metadata": {
    "scrolled": false
   },
   "outputs": [
    {
     "data": {
      "text/html": [
       "<div>\n",
       "<style scoped>\n",
       "    .dataframe tbody tr th:only-of-type {\n",
       "        vertical-align: middle;\n",
       "    }\n",
       "\n",
       "    .dataframe tbody tr th {\n",
       "        vertical-align: top;\n",
       "    }\n",
       "\n",
       "    .dataframe thead th {\n",
       "        text-align: right;\n",
       "    }\n",
       "</style>\n",
       "<table border=\"1\" class=\"dataframe\">\n",
       "  <thead>\n",
       "    <tr style=\"text-align: right;\">\n",
       "      <th></th>\n",
       "      <th>Rating</th>\n",
       "      <th>Price</th>\n",
       "    </tr>\n",
       "  </thead>\n",
       "  <tbody>\n",
       "    <tr>\n",
       "      <td>count</td>\n",
       "      <td>147.000000</td>\n",
       "      <td>147.000000</td>\n",
       "    </tr>\n",
       "    <tr>\n",
       "      <td>mean</td>\n",
       "      <td>4.036054</td>\n",
       "      <td>27405.816327</td>\n",
       "    </tr>\n",
       "    <tr>\n",
       "      <td>std</td>\n",
       "      <td>1.075821</td>\n",
       "      <td>38114.882909</td>\n",
       "    </tr>\n",
       "    <tr>\n",
       "      <td>min</td>\n",
       "      <td>1.000000</td>\n",
       "      <td>99.000000</td>\n",
       "    </tr>\n",
       "    <tr>\n",
       "      <td>25%</td>\n",
       "      <td>3.700000</td>\n",
       "      <td>199.000000</td>\n",
       "    </tr>\n",
       "    <tr>\n",
       "      <td>50%</td>\n",
       "      <td>4.500000</td>\n",
       "      <td>1129.000000</td>\n",
       "    </tr>\n",
       "    <tr>\n",
       "      <td>75%</td>\n",
       "      <td>4.700000</td>\n",
       "      <td>52500.000000</td>\n",
       "    </tr>\n",
       "    <tr>\n",
       "      <td>max</td>\n",
       "      <td>5.000000</td>\n",
       "      <td>140300.000000</td>\n",
       "    </tr>\n",
       "  </tbody>\n",
       "</table>\n",
       "</div>"
      ],
      "text/plain": [
       "           Rating          Price\n",
       "count  147.000000     147.000000\n",
       "mean     4.036054   27405.816327\n",
       "std      1.075821   38114.882909\n",
       "min      1.000000      99.000000\n",
       "25%      3.700000     199.000000\n",
       "50%      4.500000    1129.000000\n",
       "75%      4.700000   52500.000000\n",
       "max      5.000000  140300.000000"
      ]
     },
     "execution_count": 18,
     "metadata": {},
     "output_type": "execute_result"
    }
   ],
   "source": [
    "df.describe()"
   ]
  },
  {
   "cell_type": "markdown",
   "metadata": {},
   "source": [
    "# My Budget is 35000 - 45000"
   ]
  },
  {
   "cell_type": "markdown",
   "metadata": {},
   "source": [
    "# Subsetting the Dataset with Price grater or equal to 35000"
   ]
  },
  {
   "cell_type": "code",
   "execution_count": 19,
   "metadata": {},
   "outputs": [],
   "source": [
    "new_df=df[(df['Price'] >= 35000)]"
   ]
  },
  {
   "cell_type": "code",
   "execution_count": 455,
   "metadata": {
    "scrolled": true
   },
   "outputs": [
    {
     "data": {
      "text/html": [
       "<div>\n",
       "<style scoped>\n",
       "    .dataframe tbody tr th:only-of-type {\n",
       "        vertical-align: middle;\n",
       "    }\n",
       "\n",
       "    .dataframe tbody tr th {\n",
       "        vertical-align: top;\n",
       "    }\n",
       "\n",
       "    .dataframe thead th {\n",
       "        text-align: right;\n",
       "    }\n",
       "</style>\n",
       "<table border=\"1\" class=\"dataframe\">\n",
       "  <thead>\n",
       "    <tr style=\"text-align: right;\">\n",
       "      <th></th>\n",
       "      <th>Products</th>\n",
       "      <th>Rating</th>\n",
       "      <th>Price</th>\n",
       "    </tr>\n",
       "  </thead>\n",
       "  <tbody>\n",
       "    <tr>\n",
       "      <td>0</td>\n",
       "      <td>Apple iPhone 11 (Black, 64 GB)</td>\n",
       "      <td>4.7</td>\n",
       "      <td>68300</td>\n",
       "    </tr>\n",
       "    <tr>\n",
       "      <td>1</td>\n",
       "      <td>Apple iPhone SE (Black, 64 GB)</td>\n",
       "      <td>4.5</td>\n",
       "      <td>42500</td>\n",
       "    </tr>\n",
       "    <tr>\n",
       "      <td>2</td>\n",
       "      <td>Apple iPhone 11 (White, 64 GB)</td>\n",
       "      <td>4.7</td>\n",
       "      <td>68300</td>\n",
       "    </tr>\n",
       "    <tr>\n",
       "      <td>5</td>\n",
       "      <td>Apple iPhone XR (Black, 64 GB)</td>\n",
       "      <td>4.6</td>\n",
       "      <td>52500</td>\n",
       "    </tr>\n",
       "    <tr>\n",
       "      <td>6</td>\n",
       "      <td>Apple iPhone XR (White, 64 GB)</td>\n",
       "      <td>4.5</td>\n",
       "      <td>52500</td>\n",
       "    </tr>\n",
       "    <tr>\n",
       "      <td>7</td>\n",
       "      <td>Apple iPhone SE (White, 64 GB)</td>\n",
       "      <td>4.7</td>\n",
       "      <td>42500</td>\n",
       "    </tr>\n",
       "    <tr>\n",
       "      <td>8</td>\n",
       "      <td>Apple iPhone 11 (Black, 128 GB)</td>\n",
       "      <td>4.7</td>\n",
       "      <td>73600</td>\n",
       "    </tr>\n",
       "    <tr>\n",
       "      <td>9</td>\n",
       "      <td>Apple iPhone 11 (White, 128 GB)</td>\n",
       "      <td>4.7</td>\n",
       "      <td>73600</td>\n",
       "    </tr>\n",
       "    <tr>\n",
       "      <td>10</td>\n",
       "      <td>Apple iPhone 11 (Green, 64 GB)</td>\n",
       "      <td>4.5</td>\n",
       "      <td>68300</td>\n",
       "    </tr>\n",
       "    <tr>\n",
       "      <td>11</td>\n",
       "      <td>Apple iPhone SE (Red, 64 GB)</td>\n",
       "      <td>4.7</td>\n",
       "      <td>42500</td>\n",
       "    </tr>\n",
       "    <tr>\n",
       "      <td>12</td>\n",
       "      <td>Apple iPhone 11 (Purple, 128 GB)</td>\n",
       "      <td>3.4</td>\n",
       "      <td>73600</td>\n",
       "    </tr>\n",
       "    <tr>\n",
       "      <td>15</td>\n",
       "      <td>Apple iPhone SE (Black, 128 GB)</td>\n",
       "      <td>4.5</td>\n",
       "      <td>47800</td>\n",
       "    </tr>\n",
       "    <tr>\n",
       "      <td>16</td>\n",
       "      <td>Apple iPhone 11 (Green, 128 GB)</td>\n",
       "      <td>4.5</td>\n",
       "      <td>73600</td>\n",
       "    </tr>\n",
       "    <tr>\n",
       "      <td>17</td>\n",
       "      <td>Apple iPhone SE (Red, 128 GB)</td>\n",
       "      <td>4.6</td>\n",
       "      <td>47800</td>\n",
       "    </tr>\n",
       "    <tr>\n",
       "      <td>18</td>\n",
       "      <td>Apple iPhone SE (White, 128 GB)</td>\n",
       "      <td>4.7</td>\n",
       "      <td>47800</td>\n",
       "    </tr>\n",
       "    <tr>\n",
       "      <td>20</td>\n",
       "      <td>Apple iPhone XR (Coral, 64 GB)</td>\n",
       "      <td>4.7</td>\n",
       "      <td>52500</td>\n",
       "    </tr>\n",
       "    <tr>\n",
       "      <td>21</td>\n",
       "      <td>Apple iPhone 11 (Purple, 64 GB)</td>\n",
       "      <td>4.6</td>\n",
       "      <td>68300</td>\n",
       "    </tr>\n",
       "    <tr>\n",
       "      <td>22</td>\n",
       "      <td>Apple iPhone 7 Plus (Black, 32 GB)</td>\n",
       "      <td>4.7</td>\n",
       "      <td>36999</td>\n",
       "    </tr>\n",
       "    <tr>\n",
       "      <td>24</td>\n",
       "      <td>Apple iPhone 11 (Red, 128 GB)</td>\n",
       "      <td>4.5</td>\n",
       "      <td>73600</td>\n",
       "    </tr>\n",
       "    <tr>\n",
       "      <td>25</td>\n",
       "      <td>Apple iPhone XR (Black, 128 GB)</td>\n",
       "      <td>4.2</td>\n",
       "      <td>57800</td>\n",
       "    </tr>\n",
       "    <tr>\n",
       "      <td>26</td>\n",
       "      <td>Apple iPhone 11 (Red, 64 GB)</td>\n",
       "      <td>4.5</td>\n",
       "      <td>68300</td>\n",
       "    </tr>\n",
       "    <tr>\n",
       "      <td>27</td>\n",
       "      <td>Apple iPhone XR (Blue, 128 GB)</td>\n",
       "      <td>4.7</td>\n",
       "      <td>57800</td>\n",
       "    </tr>\n",
       "    <tr>\n",
       "      <td>31</td>\n",
       "      <td>Apple iPhone 7 Plus (Gold, 32 GB)</td>\n",
       "      <td>4.7</td>\n",
       "      <td>36999</td>\n",
       "    </tr>\n",
       "    <tr>\n",
       "      <td>32</td>\n",
       "      <td>Apple iPhone XS (Space Grey, 64 GB)</td>\n",
       "      <td>4.7</td>\n",
       "      <td>62999</td>\n",
       "    </tr>\n",
       "    <tr>\n",
       "      <td>34</td>\n",
       "      <td>Apple iPhone 7 Plus (Rose Gold, 32 GB)</td>\n",
       "      <td>4.7</td>\n",
       "      <td>36999</td>\n",
       "    </tr>\n",
       "    <tr>\n",
       "      <td>35</td>\n",
       "      <td>Apple iPhone 11 Pro (Space Grey, 256 GB)</td>\n",
       "      <td>5.0</td>\n",
       "      <td>121300</td>\n",
       "    </tr>\n",
       "    <tr>\n",
       "      <td>36</td>\n",
       "      <td>Apple iPhone 11 Pro (Silver, 64 GB)</td>\n",
       "      <td>5.0</td>\n",
       "      <td>106600</td>\n",
       "    </tr>\n",
       "    <tr>\n",
       "      <td>37</td>\n",
       "      <td>Apple iPhone 11 Pro Max (Midnight Green, 256 GB)</td>\n",
       "      <td>4.7</td>\n",
       "      <td>131900</td>\n",
       "    </tr>\n",
       "    <tr>\n",
       "      <td>38</td>\n",
       "      <td>Apple iPhone 11 Pro (Midnight Green, 64 GB)</td>\n",
       "      <td>5.0</td>\n",
       "      <td>106600</td>\n",
       "    </tr>\n",
       "    <tr>\n",
       "      <td>40</td>\n",
       "      <td>Apple iPhone 11 Pro (Silver, 256 GB)</td>\n",
       "      <td>4.2</td>\n",
       "      <td>62999</td>\n",
       "    </tr>\n",
       "    <tr>\n",
       "      <td>41</td>\n",
       "      <td>Apple iPhone 11 Pro Max (Silver, 64 GB)</td>\n",
       "      <td>5.0</td>\n",
       "      <td>131900</td>\n",
       "    </tr>\n",
       "    <tr>\n",
       "      <td>45</td>\n",
       "      <td>Apple iPhone 11 Pro (Silver, 512 GB)</td>\n",
       "      <td>3.0</td>\n",
       "      <td>121300</td>\n",
       "    </tr>\n",
       "    <tr>\n",
       "      <td>46</td>\n",
       "      <td>Apple iPhone 11 Pro Max (Midnight Green, 64 GB)</td>\n",
       "      <td>4.5</td>\n",
       "      <td>117100</td>\n",
       "    </tr>\n",
       "    <tr>\n",
       "      <td>47</td>\n",
       "      <td>Apple iPhone 11 Pro (Space Grey, 64 GB)</td>\n",
       "      <td>4.0</td>\n",
       "      <td>39899</td>\n",
       "    </tr>\n",
       "    <tr>\n",
       "      <td>49</td>\n",
       "      <td>Mopcollections Camera Lens Protector for Apple...</td>\n",
       "      <td>4.7</td>\n",
       "      <td>56999</td>\n",
       "    </tr>\n",
       "    <tr>\n",
       "      <td>50</td>\n",
       "      <td>Apple iPhone 8 (Gold, 64 GB)</td>\n",
       "      <td>4.7</td>\n",
       "      <td>140300</td>\n",
       "    </tr>\n",
       "    <tr>\n",
       "      <td>51</td>\n",
       "      <td>Apple iPhone 8 Plus (Space Grey, 64 GB)</td>\n",
       "      <td>4.5</td>\n",
       "      <td>117100</td>\n",
       "    </tr>\n",
       "    <tr>\n",
       "      <td>52</td>\n",
       "      <td>Apple iPhone 8 Plus (Silver, 256 GB)</td>\n",
       "      <td>4.7</td>\n",
       "      <td>106600</td>\n",
       "    </tr>\n",
       "    <tr>\n",
       "      <td>53</td>\n",
       "      <td>Mopcollections Camera Lens Protector for Apple...</td>\n",
       "      <td>4.7</td>\n",
       "      <td>121300</td>\n",
       "    </tr>\n",
       "    <tr>\n",
       "      <td>55</td>\n",
       "      <td>Apple iPhone XS (Space Grey, 512 GB)</td>\n",
       "      <td>4.7</td>\n",
       "      <td>38999</td>\n",
       "    </tr>\n",
       "    <tr>\n",
       "      <td>56</td>\n",
       "      <td>Apple iPhone 8 Plus (Gold, 256 GB)</td>\n",
       "      <td>4.7</td>\n",
       "      <td>52990</td>\n",
       "    </tr>\n",
       "    <tr>\n",
       "      <td>57</td>\n",
       "      <td>Apple iPhone 8 (Gold, 256 GB)</td>\n",
       "      <td>4.5</td>\n",
       "      <td>67990</td>\n",
       "    </tr>\n",
       "    <tr>\n",
       "      <td>60</td>\n",
       "      <td>Apple iPhone 8 (Silver, 256 GB)</td>\n",
       "      <td>4.1</td>\n",
       "      <td>134900</td>\n",
       "    </tr>\n",
       "    <tr>\n",
       "      <td>61</td>\n",
       "      <td>Apple iPhone 7 (Rose Gold, 256 GB)</td>\n",
       "      <td>4.7</td>\n",
       "      <td>67990</td>\n",
       "    </tr>\n",
       "    <tr>\n",
       "      <td>62</td>\n",
       "      <td>Apple iPhone 6s Plus (Space Grey, 16 GB)</td>\n",
       "      <td>4.6</td>\n",
       "      <td>57990</td>\n",
       "    </tr>\n",
       "    <tr>\n",
       "      <td>63</td>\n",
       "      <td>Mopcollections Camera Lens Protector for Apple...</td>\n",
       "      <td>4.5</td>\n",
       "      <td>76000</td>\n",
       "    </tr>\n",
       "    <tr>\n",
       "      <td>65</td>\n",
       "      <td>Apple iPhone XS (Silver, 512 GB)</td>\n",
       "      <td>4.5</td>\n",
       "      <td>57990</td>\n",
       "    </tr>\n",
       "    <tr>\n",
       "      <td>66</td>\n",
       "      <td>Dainty Tempered Glass Guard for Apple iPhone S...</td>\n",
       "      <td>4.5</td>\n",
       "      <td>47490</td>\n",
       "    </tr>\n",
       "    <tr>\n",
       "      <td>67</td>\n",
       "      <td>Apple iPhone X (Silver, 256 GB)</td>\n",
       "      <td>4.4</td>\n",
       "      <td>42990</td>\n",
       "    </tr>\n",
       "    <tr>\n",
       "      <td>69</td>\n",
       "      <td>Lezix Edge To Edge Tempered Glass for Apple iP...</td>\n",
       "      <td>4.7</td>\n",
       "      <td>46393</td>\n",
       "    </tr>\n",
       "    <tr>\n",
       "      <td>70</td>\n",
       "      <td>BlackBug Back Screen Guard for Apple iPhone 5s</td>\n",
       "      <td>3.9</td>\n",
       "      <td>124490</td>\n",
       "    </tr>\n",
       "    <tr>\n",
       "      <td>72</td>\n",
       "      <td>Bodoma Back Screen Guard for Apple Iphone 11</td>\n",
       "      <td>3.8</td>\n",
       "      <td>84990</td>\n",
       "    </tr>\n",
       "    <tr>\n",
       "      <td>87</td>\n",
       "      <td>Power Tempered Glass Guard for Apple iPhone SE</td>\n",
       "      <td>5.0</td>\n",
       "      <td>42990</td>\n",
       "    </tr>\n",
       "    <tr>\n",
       "      <td>88</td>\n",
       "      <td>Power Tempered Glass Guard for Apple iPhone SE</td>\n",
       "      <td>4.5</td>\n",
       "      <td>42500</td>\n",
       "    </tr>\n",
       "    <tr>\n",
       "      <td>134</td>\n",
       "      <td>Power Tempered Glass Guard for Apple iPhone SE</td>\n",
       "      <td>3.0</td>\n",
       "      <td>42500</td>\n",
       "    </tr>\n",
       "  </tbody>\n",
       "</table>\n",
       "</div>"
      ],
      "text/plain": [
       "                                              Products  Rating   Price\n",
       "0                       Apple iPhone 11 (Black, 64 GB)     4.7   68300\n",
       "1                       Apple iPhone SE (Black, 64 GB)     4.5   42500\n",
       "2                       Apple iPhone 11 (White, 64 GB)     4.7   68300\n",
       "5                       Apple iPhone XR (Black, 64 GB)     4.6   52500\n",
       "6                       Apple iPhone XR (White, 64 GB)     4.5   52500\n",
       "7                       Apple iPhone SE (White, 64 GB)     4.7   42500\n",
       "8                      Apple iPhone 11 (Black, 128 GB)     4.7   73600\n",
       "9                      Apple iPhone 11 (White, 128 GB)     4.7   73600\n",
       "10                      Apple iPhone 11 (Green, 64 GB)     4.5   68300\n",
       "11                        Apple iPhone SE (Red, 64 GB)     4.7   42500\n",
       "12                    Apple iPhone 11 (Purple, 128 GB)     3.4   73600\n",
       "15                     Apple iPhone SE (Black, 128 GB)     4.5   47800\n",
       "16                     Apple iPhone 11 (Green, 128 GB)     4.5   73600\n",
       "17                       Apple iPhone SE (Red, 128 GB)     4.6   47800\n",
       "18                     Apple iPhone SE (White, 128 GB)     4.7   47800\n",
       "20                      Apple iPhone XR (Coral, 64 GB)     4.7   52500\n",
       "21                     Apple iPhone 11 (Purple, 64 GB)     4.6   68300\n",
       "22                  Apple iPhone 7 Plus (Black, 32 GB)     4.7   36999\n",
       "24                       Apple iPhone 11 (Red, 128 GB)     4.5   73600\n",
       "25                     Apple iPhone XR (Black, 128 GB)     4.2   57800\n",
       "26                        Apple iPhone 11 (Red, 64 GB)     4.5   68300\n",
       "27                      Apple iPhone XR (Blue, 128 GB)     4.7   57800\n",
       "31                   Apple iPhone 7 Plus (Gold, 32 GB)     4.7   36999\n",
       "32                 Apple iPhone XS (Space Grey, 64 GB)     4.7   62999\n",
       "34              Apple iPhone 7 Plus (Rose Gold, 32 GB)     4.7   36999\n",
       "35            Apple iPhone 11 Pro (Space Grey, 256 GB)     5.0  121300\n",
       "36                 Apple iPhone 11 Pro (Silver, 64 GB)     5.0  106600\n",
       "37    Apple iPhone 11 Pro Max (Midnight Green, 256 GB)     4.7  131900\n",
       "38         Apple iPhone 11 Pro (Midnight Green, 64 GB)     5.0  106600\n",
       "40                Apple iPhone 11 Pro (Silver, 256 GB)     4.2   62999\n",
       "41             Apple iPhone 11 Pro Max (Silver, 64 GB)     5.0  131900\n",
       "45                Apple iPhone 11 Pro (Silver, 512 GB)     3.0  121300\n",
       "46     Apple iPhone 11 Pro Max (Midnight Green, 64 GB)     4.5  117100\n",
       "47             Apple iPhone 11 Pro (Space Grey, 64 GB)     4.0   39899\n",
       "49   Mopcollections Camera Lens Protector for Apple...     4.7   56999\n",
       "50                        Apple iPhone 8 (Gold, 64 GB)     4.7  140300\n",
       "51             Apple iPhone 8 Plus (Space Grey, 64 GB)     4.5  117100\n",
       "52                Apple iPhone 8 Plus (Silver, 256 GB)     4.7  106600\n",
       "53   Mopcollections Camera Lens Protector for Apple...     4.7  121300\n",
       "55                Apple iPhone XS (Space Grey, 512 GB)     4.7   38999\n",
       "56                  Apple iPhone 8 Plus (Gold, 256 GB)     4.7   52990\n",
       "57                       Apple iPhone 8 (Gold, 256 GB)     4.5   67990\n",
       "60                     Apple iPhone 8 (Silver, 256 GB)     4.1  134900\n",
       "61                  Apple iPhone 7 (Rose Gold, 256 GB)     4.7   67990\n",
       "62            Apple iPhone 6s Plus (Space Grey, 16 GB)     4.6   57990\n",
       "63   Mopcollections Camera Lens Protector for Apple...     4.5   76000\n",
       "65                    Apple iPhone XS (Silver, 512 GB)     4.5   57990\n",
       "66   Dainty Tempered Glass Guard for Apple iPhone S...     4.5   47490\n",
       "67                     Apple iPhone X (Silver, 256 GB)     4.4   42990\n",
       "69   Lezix Edge To Edge Tempered Glass for Apple iP...     4.7   46393\n",
       "70      BlackBug Back Screen Guard for Apple iPhone 5s     3.9  124490\n",
       "72        Bodoma Back Screen Guard for Apple Iphone 11     3.8   84990\n",
       "87      Power Tempered Glass Guard for Apple iPhone SE     5.0   42990\n",
       "88      Power Tempered Glass Guard for Apple iPhone SE     4.5   42500\n",
       "134     Power Tempered Glass Guard for Apple iPhone SE     3.0   42500"
      ]
     },
     "execution_count": 455,
     "metadata": {},
     "output_type": "execute_result"
    }
   ],
   "source": [
    "new_df"
   ]
  },
  {
   "cell_type": "markdown",
   "metadata": {},
   "source": [
    "# Sorting Price and Rating of the Product and selecting top 8 product and storing it on new Variable"
   ]
  },
  {
   "cell_type": "code",
   "execution_count": 20,
   "metadata": {},
   "outputs": [],
   "source": [
    "new_df = new_df.sort_values([\"Price\", \"Rating\"], ascending = (True, True))\n",
    "selection=new_df.head(8)"
   ]
  },
  {
   "cell_type": "code",
   "execution_count": 21,
   "metadata": {
    "scrolled": true
   },
   "outputs": [
    {
     "data": {
      "text/html": [
       "<div>\n",
       "<style scoped>\n",
       "    .dataframe tbody tr th:only-of-type {\n",
       "        vertical-align: middle;\n",
       "    }\n",
       "\n",
       "    .dataframe tbody tr th {\n",
       "        vertical-align: top;\n",
       "    }\n",
       "\n",
       "    .dataframe thead th {\n",
       "        text-align: right;\n",
       "    }\n",
       "</style>\n",
       "<table border=\"1\" class=\"dataframe\">\n",
       "  <thead>\n",
       "    <tr style=\"text-align: right;\">\n",
       "      <th></th>\n",
       "      <th>Products</th>\n",
       "      <th>Rating</th>\n",
       "      <th>Price</th>\n",
       "    </tr>\n",
       "  </thead>\n",
       "  <tbody>\n",
       "    <tr>\n",
       "      <td>27</td>\n",
       "      <td>Apple iPhone 7 Plus (Gold, 32 GB)</td>\n",
       "      <td>4.5</td>\n",
       "      <td>36999</td>\n",
       "    </tr>\n",
       "    <tr>\n",
       "      <td>20</td>\n",
       "      <td>Apple iPhone 7 Plus (Black, 32 GB)</td>\n",
       "      <td>4.7</td>\n",
       "      <td>36999</td>\n",
       "    </tr>\n",
       "    <tr>\n",
       "      <td>32</td>\n",
       "      <td>Apple iPhone 7 Plus (Rose Gold, 32 GB)</td>\n",
       "      <td>4.7</td>\n",
       "      <td>36999</td>\n",
       "    </tr>\n",
       "    <tr>\n",
       "      <td>44</td>\n",
       "      <td>Apple iPhone 11 Pro (Silver, 512 GB)</td>\n",
       "      <td>5.0</td>\n",
       "      <td>36999</td>\n",
       "    </tr>\n",
       "    <tr>\n",
       "      <td>1</td>\n",
       "      <td>Apple iPhone SE (Black, 64 GB)</td>\n",
       "      <td>4.5</td>\n",
       "      <td>42500</td>\n",
       "    </tr>\n",
       "    <tr>\n",
       "      <td>6</td>\n",
       "      <td>Apple iPhone SE (White, 64 GB)</td>\n",
       "      <td>4.5</td>\n",
       "      <td>42500</td>\n",
       "    </tr>\n",
       "    <tr>\n",
       "      <td>7</td>\n",
       "      <td>Apple iPhone SE (Red, 64 GB)</td>\n",
       "      <td>4.5</td>\n",
       "      <td>42500</td>\n",
       "    </tr>\n",
       "    <tr>\n",
       "      <td>89</td>\n",
       "      <td>Raptas Case Accessory Combo for All Smartphone...</td>\n",
       "      <td>5.0</td>\n",
       "      <td>42500</td>\n",
       "    </tr>\n",
       "  </tbody>\n",
       "</table>\n",
       "</div>"
      ],
      "text/plain": [
       "                                             Products  Rating  Price\n",
       "27                  Apple iPhone 7 Plus (Gold, 32 GB)     4.5  36999\n",
       "20                 Apple iPhone 7 Plus (Black, 32 GB)     4.7  36999\n",
       "32             Apple iPhone 7 Plus (Rose Gold, 32 GB)     4.7  36999\n",
       "44               Apple iPhone 11 Pro (Silver, 512 GB)     5.0  36999\n",
       "1                      Apple iPhone SE (Black, 64 GB)     4.5  42500\n",
       "6                      Apple iPhone SE (White, 64 GB)     4.5  42500\n",
       "7                        Apple iPhone SE (Red, 64 GB)     4.5  42500\n",
       "89  Raptas Case Accessory Combo for All Smartphone...     5.0  42500"
      ]
     },
     "execution_count": 21,
     "metadata": {},
     "output_type": "execute_result"
    }
   ],
   "source": [
    "selection"
   ]
  },
  {
   "cell_type": "code",
   "execution_count": 23,
   "metadata": {
    "scrolled": true
   },
   "outputs": [],
   "source": [
    "import matplotlib.pyplot as plt\n",
    "\n"
   ]
  },
  {
   "cell_type": "markdown",
   "metadata": {},
   "source": [
    "# Visulalizing the data using Product Vs Price"
   ]
  },
  {
   "cell_type": "code",
   "execution_count": 24,
   "metadata": {
    "scrolled": true
   },
   "outputs": [
    {
     "data": {
      "text/plain": [
       "<matplotlib.axes._subplots.AxesSubplot at 0x11575630>"
      ]
     },
     "execution_count": 24,
     "metadata": {},
     "output_type": "execute_result"
    },
    {
     "data": {
      "image/png": "[encoded data removed]",
      "text/plain": [
       "<Figure size 2160x432 with 1 Axes>"
      ]
     },
     "metadata": {
      "needs_background": "light"
     },
     "output_type": "display_data"
    }
   ],
   "source": [
    "plt.figure(figsize=(30,6))\n",
    "sns.barplot(x=selection['Products'], y=selection['Price'])"
   ]
  },
  {
   "cell_type": "markdown",
   "metadata": {},
   "source": [
    "# Visulalizing the data using Product Vs Rating"
   ]
  },
  {
   "cell_type": "code",
   "execution_count": 25,
   "metadata": {
    "scrolled": true
   },
   "outputs": [
    {
     "data": {
      "text/plain": [
       "<matplotlib.axes._subplots.AxesSubplot at 0x11744330>"
      ]
     },
     "execution_count": 25,
     "metadata": {},
     "output_type": "execute_result"
    },
    {
     "data": {
      "image/png": "[encoded data removed]",
      "text/plain": [
       "<Figure size 2160x432 with 1 Axes>"
      ]
     },
     "metadata": {
      "needs_background": "light"
     },
     "output_type": "display_data"
    }
   ],
   "source": [
    "plt.figure(figsize=(30,6))\n",
    "sns.barplot(x=selection['Products'], y=selection['Rating'])"
   ]
  },
  {
   "cell_type": "markdown",
   "metadata": {},
   "source": [
    "# Visulalizing the data using Rating Vs Price"
   ]
  },
  {
   "cell_type": "code",
   "execution_count": 26,
   "metadata": {
    "scrolled": true
   },
   "outputs": [
    {
     "data": {
      "text/plain": [
       "<matplotlib.axes._subplots.AxesSubplot at 0x42dd7d0>"
      ]
     },
     "execution_count": 26,
     "metadata": {},
     "output_type": "execute_result"
    },
    {
     "data": {
      "image/png": "[encoded data removed]",
      "text/plain": [
       "<Figure size 432x288 with 1 Axes>"
      ]
     },
     "metadata": {
      "needs_background": "light"
     },
     "output_type": "display_data"
    }
   ],
   "source": [
    "import seaborn as sns\n",
    "\n",
    "sns.barplot(x=selection['Rating'], y=selection['Price'])"
   ]
  },
  {
   "cell_type": "markdown",
   "metadata": {},
   "source": [
    "# Selecting best Product as per budget and Rating"
   ]
  },
  {
   "cell_type": "code",
   "execution_count": 29,
   "metadata": {},
   "outputs": [
    {
     "data": {
      "text/html": [
       "<div>\n",
       "<style scoped>\n",
       "    .dataframe tbody tr th:only-of-type {\n",
       "        vertical-align: middle;\n",
       "    }\n",
       "\n",
       "    .dataframe tbody tr th {\n",
       "        vertical-align: top;\n",
       "    }\n",
       "\n",
       "    .dataframe thead th {\n",
       "        text-align: right;\n",
       "    }\n",
       "</style>\n",
       "<table border=\"1\" class=\"dataframe\">\n",
       "  <thead>\n",
       "    <tr style=\"text-align: right;\">\n",
       "      <th></th>\n",
       "      <th>Products</th>\n",
       "      <th>Rating</th>\n",
       "      <th>Price</th>\n",
       "    </tr>\n",
       "  </thead>\n",
       "  <tbody>\n",
       "    <tr>\n",
       "      <td>20</td>\n",
       "      <td>Apple iPhone 7 Plus (Black, 32 GB)</td>\n",
       "      <td>4.7</td>\n",
       "      <td>36999</td>\n",
       "    </tr>\n",
       "    <tr>\n",
       "      <td>32</td>\n",
       "      <td>Apple iPhone 7 Plus (Rose Gold, 32 GB)</td>\n",
       "      <td>4.7</td>\n",
       "      <td>36999</td>\n",
       "    </tr>\n",
       "    <tr>\n",
       "      <td>44</td>\n",
       "      <td>Apple iPhone 11 Pro (Silver, 512 GB)</td>\n",
       "      <td>5.0</td>\n",
       "      <td>36999</td>\n",
       "    </tr>\n",
       "    <tr>\n",
       "      <td>89</td>\n",
       "      <td>Raptas Case Accessory Combo for All Smartphone...</td>\n",
       "      <td>5.0</td>\n",
       "      <td>42500</td>\n",
       "    </tr>\n",
       "  </tbody>\n",
       "</table>\n",
       "</div>"
      ],
      "text/plain": [
       "                                             Products  Rating  Price\n",
       "20                 Apple iPhone 7 Plus (Black, 32 GB)     4.7  36999\n",
       "32             Apple iPhone 7 Plus (Rose Gold, 32 GB)     4.7  36999\n",
       "44               Apple iPhone 11 Pro (Silver, 512 GB)     5.0  36999\n",
       "89  Raptas Case Accessory Combo for All Smartphone...     5.0  42500"
      ]
     },
     "execution_count": 29,
     "metadata": {},
     "output_type": "execute_result"
    }
   ],
   "source": [
    "selection[(selection['Price'] >= 35000) & (selection['Price'] <= 45000) & (selection['Rating'] >= 4.7)]"
   ]
  },
  {
   "cell_type": "code",
   "execution_count": null,
   "metadata": {},
   "outputs": [],
   "source": []
  }
 ],
 "metadata": {
  "kernelspec": {
   "display_name": "Python 3",
   "language": "python",
   "name": "python3"
  },
  "language_info": {
   "codemirror_mode": {
    "name": "ipython",
    "version": 3
   },
   "file_extension": ".py",
   "mimetype": "text/x-python",
   "name": "python",
   "nbconvert_exporter": "python",
   "pygments_lexer": "ipython3",
   "version": "3.7.4"
  }
 },
 "nbformat": 4,
 "nbformat_minor": 2
}
